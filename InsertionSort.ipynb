{
  "nbformat": 4,
  "nbformat_minor": 0,
  "metadata": {
    "colab": {
      "name": "InsertionSort",
      "provenance": [],
      "authorship_tag": "ABX9TyNHmKyKYO9qXsTVZdtDm3Bj",
      "include_colab_link": true
    },
    "kernelspec": {
      "name": "python3",
      "display_name": "Python 3"
    },
    "language_info": {
      "name": "python"
    }
  },
  "cells": [
    {
      "cell_type": "markdown",
      "metadata": {
        "id": "view-in-github",
        "colab_type": "text"
      },
      "source": [
        "<a href=\"https://colab.research.google.com/github/rilianx/Documents/blob/main/InsertionSort.ipynb\" target=\"_parent\"><img src=\"https://colab.research.google.com/assets/colab-badge.svg\" alt=\"Open In Colab\"/></a>"
      ]
    },
    {
      "cell_type": "markdown",
      "source": [
        "## Material adicional"
      ],
      "metadata": {
        "id": "PPZ_M294tIlc"
      }
    },
    {
      "cell_type": "markdown",
      "source": [
        "### Algoritmo BubbleSort\n",
        "Implementación del algoritmo **BubbleSort** sacada de [aquí](https://realpython.com/sorting-algorithms-python/#the-bubble-sort-algorithm-in-python). Se usará para comparar."
      ],
      "metadata": {
        "id": "Xf1stxLBJYmF"
      }
    },
    {
      "cell_type": "code",
      "source": [
        "## https://realpython.com/sorting-algorithms-python/#the-bubble-sort-algorithm-in-python\n",
        "\n",
        "def bubble_sort(array):\n",
        "    n = len(array)\n",
        "\n",
        "    for i in range(n):\n",
        "        # Create a flag that will allow the function to\n",
        "        # terminate early if there's nothing left to sort\n",
        "        already_sorted = True\n",
        "\n",
        "        # Start looking at each item of the list one by one,\n",
        "        # comparing it with its adjacent value. With each\n",
        "        # iteration, the portion of the array that you look at\n",
        "        # shrinks because the remaining items have already been\n",
        "        # sorted.\n",
        "        for j in range(n - i - 1):\n",
        "            if array[j] > array[j + 1]:\n",
        "                # If the item you're looking at is greater than its\n",
        "                # adjacent value, then swap them\n",
        "                array[j], array[j + 1] = array[j + 1], array[j]\n",
        "\n",
        "                # Since you had to swap two elements,\n",
        "                # set the `already_sorted` flag to `False` so the\n",
        "                # algorithm doesn't finish prematurely\n",
        "                already_sorted = False\n",
        "\n",
        "        # If there were no swaps during the last iteration,\n",
        "        # the array is already sorted, and you can terminate\n",
        "        if already_sorted:\n",
        "            break\n",
        "\n",
        "    return array"
      ],
      "metadata": {
        "id": "2jGPWguutL42"
      },
      "execution_count": 8,
      "outputs": []
    },
    {
      "cell_type": "markdown",
      "source": [
        "### Profiling\n",
        "Esta herramientas nos ayuda a analizar código en tiempo de ejecución."
      ],
      "metadata": {
        "id": "79pETH92I_Fe"
      }
    },
    {
      "cell_type": "code",
      "source": [
        "!pip install line_profiler &> /dev/null\n",
        "%load_ext line_profiler\n",
        "\n",
        "! pip install memory_profiler &> /dev/null\n",
        "%load_ext memory_profiler"
      ],
      "metadata": {
        "id": "cjvuYyj0JL7H"
      },
      "execution_count": 9,
      "outputs": []
    },
    {
      "cell_type": "markdown",
      "source": [
        "### Write-and-run"
      ],
      "metadata": {
        "id": "sK_qsvtFaHW8"
      }
    },
    {
      "cell_type": "code",
      "source": [
        "from IPython.core.magic import register_cell_magic\n",
        "\n",
        "\n",
        "@register_cell_magic\n",
        "def write_and_run(line, cell):\n",
        "    argz = line.split()\n",
        "    file = argz[-1]\n",
        "    mode = 'w'\n",
        "    if len(argz) == 2 and argz[0] == '-a':\n",
        "        mode = 'a'\n",
        "    with open(file, mode) as f:\n",
        "        f.write(cell)\n",
        "    get_ipython().run_cell(cell)"
      ],
      "metadata": {
        "id": "hjQZ_zK5aK4j"
      },
      "execution_count": 15,
      "outputs": []
    },
    {
      "cell_type": "markdown",
      "source": [
        "# Problema de ordenamiento\n",
        "\n",
        "**Entrada**: Secuencia de n números $[a_1,a_2,...,a_n]$\n",
        "\n",
        "**Salida**: Permutación ordenada de la secuencia de entrada: $[a_1',a_2',...,a_n']$, de tal manera que $a_1'\\leq a_2' \\leq... \\leq a_n'$.\n",
        "\n",
        "![image](https://i.imgur.com/rCFQeVM.png)\n"
      ],
      "metadata": {
        "id": "jT2qsbCS3Fzu"
      }
    },
    {
      "cell_type": "markdown",
      "source": [
        "# InsertionSort\n",
        "\n",
        "El algoritmo **InsertionSort** es similar a lo que hacemos cuando ordenamos una mano de cartas agregando una carta a la vez en nuestra mano y buscamos su posición correcta de **derecha a izquierda**. El siguiente código muestra una implementación del algoritmo."
      ],
      "metadata": {
        "id": "nn1Sn60L3mrJ"
      }
    },
    {
      "cell_type": "code",
      "execution_count": 66,
      "metadata": {
        "id": "X6zMAoC1aos8"
      },
      "outputs": [],
      "source": [
        "## la siguiente linea guarda el código del bloque en el archivo insertion_sort.py\n",
        "%%write_and_run insertion_sort.py\n",
        "import random\n",
        "from termcolor import colored\n",
        "import copy\n",
        "\n",
        "counter=0 # contador de comparaciones\n",
        "\n",
        "def insertion_sort(a, verbose=False):\n",
        "  global counter #variable global\n",
        "  n=len(a)\n",
        "  for i in range(1,n):\n",
        "    #a[0..i-1] se encuentran ordenados\n",
        "    key = a[i]\n",
        "    if verbose==True: \n",
        "      print(\"-- Iteración\",i,\"--\")\n",
        "      print(\"Inicio iteración:\",colored(f\"{a[:i]}\",\"blue\"),colored(str(a[i]),\"red\"),colored(f\"{a[i+1:]}\",\"yellow\") if i+1<n else '')\n",
        "\n",
        "    key_placed=False\n",
        "    for k in range(i-1,-1,-1): #i-1,i-2,...,0\n",
        "      counter += 1\n",
        "      if a[k]<key: \n",
        "        a[k+1]=key\n",
        "        key_placed=True\n",
        "        break\n",
        "      a[k+1] = a[k]  #se mueve el nuevo elemento de derecha a izquierda\n",
        "\n",
        "    if key_placed==False: a[k]=key; k=-1\n",
        "\n",
        "    if verbose==True: print(\"Fin iteración   :\",colored(f\"{a[:i+1]}\",\"blue\"), colored(f\"{a[i+1:]}\",\"yellow\") if i+1<n else '')\n",
        "\n",
        "  return a\n"
      ]
    },
    {
      "cell_type": "markdown",
      "source": [
        "El algoritmo recibe como entrada una lista (o arreglo) $a$ con la secuencia de $n$ elementos que queremos ordenar. Luego, los números se ordenan dentro de la misma lista.\n",
        "\n",
        "1. Cuando comienza, se considera que sólo el primer elemento se encuentra ordenado, es decir, `a[0]`, y el resto de elementos son como las cartas boca abajo en la mesa.\n",
        "\n",
        "2. Luego, para cada elemento `key=a[i]` con $i$ en el rango $(1..n)$:\n",
        "\n",
        "  a.  El bucle de las lineas 17--23 busca la posición correcta para el elemento de **derecha a izquierda**. Para ello se recorre el arreglo desde la posición $i-1$ hasta la posición $0$ (linea 17) y se mueve a la derecha los elementos mayores a $key$ para *hacerle espacio* (linea 20).\n",
        "\n",
        "  b. Si el elemento aun no se ha colocado (`key_placed==False`), se coloca al salir del bucle (linea 25).\n",
        "\n",
        "Cuando la variable `verbose` es `True` se muestra información para ver lo que pasa paso a paso dentro de la función.\n",
        "\n",
        "### Ejemplo\n",
        "\n",
        "Consideremos, por ejemplo, el arreglo:\n",
        "\n",
        "$a=[4,3,5,1]$\n",
        "\n",
        "Pasamos directamente al segundo elemento ($3$), y lo ponemos es su poisición correcta, es decir a[0]:\n",
        "\n",
        "$a=[3,4,5,1]$\n",
        "\n",
        "Luego, el tercer elemento ya se encuentra en la posición correcta, por lo que pasaríamos al cuarto elemento ($1$) el que se movería hasta la primera posición del arreglo:\n",
        "\n",
        "$a=[1,3,4,5]$\n",
        "\n",
        "Y ya tenemos el arreglo ordenado."
      ],
      "metadata": {
        "id": "XHIw15F97CnZ"
      }
    },
    {
      "cell_type": "markdown",
      "source": [
        "### Ejecución del algoritmo paso a paso\n",
        "\n",
        "A continuación se muestra el algoritmo en acción"
      ],
      "metadata": {
        "id": "5TZnpkE0dgta"
      }
    },
    {
      "cell_type": "code",
      "source": [
        "import random\n",
        "a = random.sample(range(1, 100), 8)\n",
        "print(\"Entrada no ordenada:\",a,\"\\n\")\n",
        "print(\"\\nSalida ordenada:\",insertion_sort(a,verbose=True))"
      ],
      "metadata": {
        "colab": {
          "base_uri": "https://localhost:8080/"
        },
        "id": "H_93UBKv8VQl",
        "outputId": "03be761c-8387-4626-e5de-bd58fe2096e1"
      },
      "execution_count": 67,
      "outputs": [
        {
          "output_type": "stream",
          "name": "stdout",
          "text": [
            "Entrada no ordenada: [69, 30, 46, 63, 77, 67, 1, 73] \n",
            "\n",
            "-- Iteración 1 --\n",
            "Inicio iteración: \u001b[34m[69]\u001b[0m \u001b[31m30\u001b[0m \u001b[33m[46, 63, 77, 67, 1, 73]\u001b[0m\n",
            "Fin iteración   : \u001b[34m[30, 69]\u001b[0m \u001b[33m[46, 63, 77, 67, 1, 73]\u001b[0m\n",
            "-- Iteración 2 --\n",
            "Inicio iteración: \u001b[34m[30, 69]\u001b[0m \u001b[31m46\u001b[0m \u001b[33m[63, 77, 67, 1, 73]\u001b[0m\n",
            "Fin iteración   : \u001b[34m[30, 46, 69]\u001b[0m \u001b[33m[63, 77, 67, 1, 73]\u001b[0m\n",
            "-- Iteración 3 --\n",
            "Inicio iteración: \u001b[34m[30, 46, 69]\u001b[0m \u001b[31m63\u001b[0m \u001b[33m[77, 67, 1, 73]\u001b[0m\n",
            "Fin iteración   : \u001b[34m[30, 46, 63, 69]\u001b[0m \u001b[33m[77, 67, 1, 73]\u001b[0m\n",
            "-- Iteración 4 --\n",
            "Inicio iteración: \u001b[34m[30, 46, 63, 69]\u001b[0m \u001b[31m77\u001b[0m \u001b[33m[67, 1, 73]\u001b[0m\n",
            "Fin iteración   : \u001b[34m[30, 46, 63, 69, 77]\u001b[0m \u001b[33m[67, 1, 73]\u001b[0m\n",
            "-- Iteración 5 --\n",
            "Inicio iteración: \u001b[34m[30, 46, 63, 69, 77]\u001b[0m \u001b[31m67\u001b[0m \u001b[33m[1, 73]\u001b[0m\n",
            "Fin iteración   : \u001b[34m[30, 46, 63, 67, 69, 77]\u001b[0m \u001b[33m[1, 73]\u001b[0m\n",
            "-- Iteración 6 --\n",
            "Inicio iteración: \u001b[34m[30, 46, 63, 67, 69, 77]\u001b[0m \u001b[31m1\u001b[0m \u001b[33m[73]\u001b[0m\n",
            "Fin iteración   : \u001b[34m[1, 30, 46, 63, 67, 69, 77]\u001b[0m \u001b[33m[73]\u001b[0m\n",
            "-- Iteración 7 --\n",
            "Inicio iteración: \u001b[34m[1, 30, 46, 63, 67, 69, 77]\u001b[0m \u001b[31m73\u001b[0m \n",
            "Fin iteración   : \u001b[34m[1, 30, 46, 63, 67, 69, 73, 77]\u001b[0m \n",
            "\n",
            "Salida ordenada: [1, 30, 46, 63, 67, 69, 73, 77]\n"
          ]
        }
      ]
    },
    {
      "cell_type": "markdown",
      "source": [
        "En cada iteración se puede apreciar el arreglo antes y despúes de colocar el nuevo elemento. El arreglo en azul es el que se encuentra ordenado y en amarillo los elementos que aun \"no se agregan\". En rojo, el nuevo elemento a agregar."
      ],
      "metadata": {
        "id": "GXXxcYI38GFB"
      }
    },
    {
      "cell_type": "markdown",
      "source": [
        "### Probando el código con pytest\n",
        "La herramienta `pytest` es muy útil para probar si nuestro código es correcto. "
      ],
      "metadata": {
        "id": "7XWlRN3_b6kn"
      }
    },
    {
      "cell_type": "markdown",
      "source": [
        "Primero creamos funciones de prueba o **tests** para verificar la correctitud del algoritmo (y los adjuntamos a nuestro archivo):\n",
        "\n",
        "- `test_sort` verifica que luego de llamar a `insertion_sort`, el arreglo `a` esté ordenado.\n",
        "\n",
        "- `test_same_elements` revisa que el arreglo ordenado (`a`) contenga los mismos elementos que el arreglo original (`b`)."
      ],
      "metadata": {
        "id": "oeQX345-b9nm"
      }
    },
    {
      "cell_type": "code",
      "source": [
        "%%write_and_run -a insertion_sort.py\n",
        "\n",
        "def test_sort():\n",
        "  for i in range(10): #generamos varios arreglos aleatorios para probar\n",
        "    a = random.sample(range(1, 100), 5)\n",
        "    a = insertion_sort(a)\n",
        "\n",
        "    #verificamos que los elementos se encuentren ordenados de menor a mayor\n",
        "    assert(all(a[i] <= a[i+1] for i in range(len(a) - 1)))\n",
        "\n",
        "def test_same_elements():\n",
        "  for i in range(10): #generamos varios arreglos aleatorios para probar\n",
        "    a = random.sample(range(1, 100), 5)\n",
        "    b = insertion_sort(copy.deepcopy(a))\n",
        "\n",
        "    #comparamos el largo de los arreglos\n",
        "    assert(len(a)==len(b))\n",
        "\n",
        "    #verificamos que los elementos de a se encuentren en b\n",
        "    for i in a: assert(i in b)"
      ],
      "metadata": {
        "id": "dqq4X5GRcVAW"
      },
      "execution_count": 68,
      "outputs": []
    },
    {
      "cell_type": "markdown",
      "source": [
        "Luego ejecutamos la herramienta:"
      ],
      "metadata": {
        "id": "EBzqdmJaddfT"
      }
    },
    {
      "cell_type": "code",
      "source": [
        "!pytest insertion_sort.py"
      ],
      "metadata": {
        "colab": {
          "base_uri": "https://localhost:8080/"
        },
        "id": "wGhvzrlSdWRW",
        "outputId": "97bf920d-7b80-4c74-fae1-2447d3be7d7e"
      },
      "execution_count": 69,
      "outputs": [
        {
          "output_type": "stream",
          "name": "stdout",
          "text": [
            "\u001b[1m============================= test session starts ==============================\u001b[0m\n",
            "platform linux -- Python 3.7.13, pytest-3.6.4, py-1.11.0, pluggy-0.7.1\n",
            "rootdir: /content, inifile:\n",
            "plugins: typeguard-2.7.1\n",
            "\u001b[1m\rcollecting 0 items                                                             \u001b[0m\u001b[1m\rcollecting 2 items                                                             \u001b[0m\u001b[1m\rcollected 2 items                                                              \u001b[0m\n",
            "\n",
            "insertion_sort.py ..\u001b[36m                                                     [100%]\u001b[0m\n",
            "\n",
            "\u001b[32m\u001b[1m=========================== 2 passed in 0.02 seconds ===========================\u001b[0m\n"
          ]
        }
      ]
    },
    {
      "cell_type": "markdown",
      "source": [
        "En caso de no pasar algún test, la herramienta nos indicará los problemas detectados."
      ],
      "metadata": {
        "id": "CWQi5qtVfjmP"
      }
    },
    {
      "cell_type": "markdown",
      "source": [
        "# Tiempo de ejecución\n",
        "Observando el código, podemos apreciar que el **peor caso** ocurriría si los elementos se encuentra ordenados de menor a mayor. En esta situación, para cada elemento $i$, el algoritmo debería recorrer el arreglo desde la posición $i$ hasta la posición $0$, ya que la posición correcta de cada elemento sería, de hecho, la posición $0$.\n",
        "\n",
        "Por ejemplo:"
      ],
      "metadata": {
        "id": "NmzbekC-4NNC"
      }
    },
    {
      "cell_type": "code",
      "source": [
        "a =[4,3,2,1]; counter = 0\n",
        "print(\"Entrada no ordenada:\",a)\n",
        "print(\"Salida ordenada:\",insertion_sort(a,True))\n",
        "print(\"Total de comparaciones realizadas:\",counter)"
      ],
      "metadata": {
        "colab": {
          "base_uri": "https://localhost:8080/"
        },
        "id": "hpqCkU0wBNAv",
        "outputId": "5d82e481-57dd-4777-c1c1-97954031d42b"
      },
      "execution_count": 70,
      "outputs": [
        {
          "output_type": "stream",
          "name": "stdout",
          "text": [
            "Entrada no ordenada: [4, 3, 2, 1]\n",
            "-- Iteración 1 --\n",
            "Inicio iteración: \u001b[34m[4]\u001b[0m \u001b[31m3\u001b[0m \u001b[33m[2, 1]\u001b[0m\n",
            "Fin iteración   : \u001b[34m[3, 4]\u001b[0m \u001b[33m[2, 1]\u001b[0m\n",
            "-- Iteración 2 --\n",
            "Inicio iteración: \u001b[34m[3, 4]\u001b[0m \u001b[31m2\u001b[0m \u001b[33m[1]\u001b[0m\n",
            "Fin iteración   : \u001b[34m[2, 3, 4]\u001b[0m \u001b[33m[1]\u001b[0m\n",
            "-- Iteración 3 --\n",
            "Inicio iteración: \u001b[34m[2, 3, 4]\u001b[0m \u001b[31m1\u001b[0m \n",
            "Fin iteración   : \u001b[34m[1, 2, 3, 4]\u001b[0m \n",
            "Salida ordenada: [1, 2, 3, 4]\n",
            "Total de comparaciones realizadas: 6\n"
          ]
        }
      ]
    },
    {
      "cell_type": "markdown",
      "source": [
        "En este caso, la clave 3 tuvo que moverse una casilla, la clave 2, dos casillas y la clave 1, 3 casillas. OBserve que esto es igual al **número de comparaciones** que se realizaron dentro del método.\n",
        "\n",
        " En el caso general, se deberían realizar $\\sum\\limits_{i=0}^{n-1} i=\\frac{n(n-1)}{2}$ operaciones. Por lo que el **tiempo de ejecución del algoritmo en el peor caso** es $O(n^2)$."
      ],
      "metadata": {
        "id": "2HQH2ltkBUbq"
      }
    },
    {
      "cell_type": "markdown",
      "source": [
        "# Correctitud\n",
        "En el comienzo de cada iteración del bucle más grande, el subarreglo a[0..i-1] corresponde a nuestra mano ordenada. El resto del arreglo: a[i,..,n-1] corresponde a las cartas boca abajo en la mesa. \n",
        "\n",
        "En la salida del método, el arreglo en azul correspondería a la mano ordenada, mientras que el resto de elementos serían las cartas boca abajo:\n",
        "\n",
        "![image](https://i.imgur.com/fhbAEhD.png)\n",
        "\n",
        "Queremos probar la siguiente **siguiente propiedad de bucle invariante** para el `insertion_sort`:\n",
        "\n",
        "> Al comienzo de cada iteración del bucle más grande, el subarreglo a[0..i-1] contiene los **mismos elementos** que el arreglo original, pero **ordenados de menor a mayor**.\n",
        "\n",
        "\n",
        "**Inicialización**\n",
        "\n",
        "Al comienzo del bucle, notamos que i comienza con el valor 1, por lo tanto, a[0..i-1] corresponde al primer elemento del arreglo original: a[0], y que se encuentra trivialmente ordenado.\n",
        "\n",
        "**Mantención**\n",
        "\n",
        "Podemos ver que en el bucle interno del algoritmo, “movemos” el nuevo elemento desde la posición i, hasta su posición correcta. Por lo tanto, si el arreglo a[0..i-1] se encontraba ordenado y contenía los elementos del arreglo original (propiedad de orden), entonces el arreglo a[0..i] también contendrá los elementos del arreglo original (ya que agregamos el i-ésimo elemento) y se mantendrá ordenado.\n",
        "\n",
        "**Correctitud**\n",
        "\n",
        "Finalmente, como la propiedad de bucle invariante es verdadera al incio del bucle y se mantiene en cada iteración, podemos decir que al **finalizar la última iteración del algoritmo**, se sigue cumpliendo.\n",
        "\n",
        "Por lo tanto, **el algoritmo es correcto**, ya que genera un arreglo a[0..n-1] con los mismos elementos que el arreglo original, pero ordenados de menor a mayor."
      ],
      "metadata": {
        "id": "-ifxrrqlC4Hc"
      }
    },
    {
      "cell_type": "markdown",
      "source": [
        "# Experimentos\n",
        "\n",
        "A continuación se muestra gráficamente una comparación entre:\n",
        "\n",
        "* cantidad de comparaciones del peor caso calculadas matemáticamente y\n",
        "* cantidad de comparaciones realizadas experimentalmente para entradas aleatorias\n",
        "\n",
        "para tamaños de problemas con $n \\in [5,99]$"
      ],
      "metadata": {
        "id": "2hYUM_9OHF38"
      }
    },
    {
      "cell_type": "code",
      "source": [
        "import matplotlib.pyplot as plt\n",
        "\n",
        "x=[n for n in range(5,100)] \n",
        "y1=[n*(n-1)/2 for n in range(5,100)]\n",
        "y2=[0.2 * n**2 for n in range(5,100)]\n",
        "y=[]; \n",
        "\n",
        "for n in range(5,100):\n",
        "  a = random.sample(range(1, 100), n)\n",
        "  counter=0; insertion_sort(a)\n",
        "  y.append(counter)\n",
        "\n",
        "plt.plot(x,y)\n",
        "plt.plot(x,y1)\n",
        "plt.plot(x,y2)\n",
        "plt.legend([\"random inputs\", \"theoretical worst case\", \"f(n)=0.1*n^2\"])\n",
        "\n",
        "plt.xlabel('n')\n",
        "plt.ylabel('number of operations')\n",
        "plt.show()"
      ],
      "metadata": {
        "colab": {
          "base_uri": "https://localhost:8080/",
          "height": 280
        },
        "id": "LxKv6b1WE-t8",
        "outputId": "6d80b535-8b40-457a-82b1-909897e9e1b7"
      },
      "execution_count": 72,
      "outputs": [
        {
          "output_type": "display_data",
          "data": {
            "text/plain": [
              "<Figure size 432x288 with 1 Axes>"
            ],
            "image/png": "[encoded data removed]"
          },
          "metadata": {
            "needs_background": "light"
          }
        }
      ]
    },
    {
      "cell_type": "markdown",
      "source": [
        "En el gráfico se puede apreciar que, como cabía de esperar, el tiempo de ejecución empírico esta por debajo del peor caso teórico. \n",
        "\n",
        "También podemos ver que el tiempo de ejecución para las instancias aleatorias pareciera tener una **cota asintótica inferior** $\\Omega(n^2)$."
      ],
      "metadata": {
        "id": "0LpupLb_HnWS"
      }
    },
    {
      "cell_type": "markdown",
      "source": [
        "## Comparación con BubbleSort\n",
        "\n",
        "En el siguiente gráfico se reporta una comparación en tiempo para el algoritmo **BubbleSort** y nuestra implementación del **InsertionSort** para arreglos generados aleatoriamente de tamaños entre $5$ y $100$.\n",
        "\n"
      ],
      "metadata": {
        "id": "5AszHwkmJIfJ"
      }
    },
    {
      "cell_type": "code",
      "source": [
        "import matplotlib.pyplot as plt\n",
        "import datetime\n",
        "from timeit import repeat\n",
        "\n",
        "x=[]; y=[]; y1=[]; y2=[]; y3=[]\n",
        "\n",
        "\n",
        "#para tamaños del problema entre 5 y 99\n",
        "for n in range(5,100):\n",
        "\n",
        "  a = random.sample(range(1, 1000), n)\n",
        "\n",
        "  t1 = repeat(setup=\"from __main__ import insertion_sort\", stmt=f\"insertion_sort({a})\", repeat=1, number=10)\n",
        "  t2 = repeat(setup=\"from __main__ import bubble_sort\", stmt=f\"bubble_sort({a})\", repeat=1, number=10)\n",
        "  t3 = repeat(setup=\"\", stmt=f\"sorted({a})\", repeat=1, number=10)\n",
        "\n",
        "  x.append(n)\n",
        "  y1.append(t1)\n",
        "  y2.append(t2)\n",
        "  y3.append(t3)\n",
        "\n",
        "plt.plot(x,y1)\n",
        "plt.plot(x,y2)\n",
        "plt.plot(x,y3)\n",
        "plt.legend([\"InsertionSort\", \"Bubble sort\", \"Sorted de python\"])\n",
        "\n",
        "plt.xlabel('n')\n",
        "plt.ylabel('time in ms')\n",
        "plt.show()"
      ],
      "metadata": {
        "colab": {
          "base_uri": "https://localhost:8080/",
          "height": 279
        },
        "id": "Ffz2Id4WJPsO",
        "outputId": "f2448b89-d72c-48f6-e8a9-6a63dc498805"
      },
      "execution_count": 73,
      "outputs": [
        {
          "output_type": "display_data",
          "data": {
            "text/plain": [
              "<Figure size 432x288 with 1 Axes>"
            ],
            "image/png": "[encoded data removed]"
          },
          "metadata": {
            "needs_background": "light"
          }
        }
      ]
    },
    {
      "cell_type": "markdown",
      "source": [
        "En el gráfico se puede apreciar que las curvas de ambos algoritmos parecen ser $O(n^2)$. Sin embargo, **InsertionSort** reporta mejores tiempos para instancias generadas aleatoriamente. Esto se debe, probablemente, a que las **constantes ocultas tras la notación asintótica** son de menor tamaño.\n",
        "\n",
        "Por otro lado, la función **sorted** de Python es mucho más rápida. Además que su cota asintótica probablemente sea menor: $O(n \\log n)$, también se debe a que las funciones incorporadas con el lenguaje están **super optimizadas**."
      ],
      "metadata": {
        "id": "8lSmgt-vvpWB"
      }
    },
    {
      "cell_type": "markdown",
      "source": [
        "### Análisis de rendimiento (Profiling)"
      ],
      "metadata": {
        "id": "xic36OwHHhXr"
      }
    },
    {
      "cell_type": "markdown",
      "source": [
        "Comúnmente llamado **profiling**, es la investigación del comportamiento de un programa usando información reunida desde el análisis dinámico del mismo. El objetivo es averiguar el tiempo dedicado a la ejecución de diferentes partes del programa para detectar los puntos problemáticos y las áreas dónde sea posible llevar a cabo una optimización del rendimiento (ya sea en velocidad o en consumo de recursos). Un profiler puede proporcionar distintas salidas, como una traza de ejecución o un resumen estadístico de los eventos observados.\n",
        "\n",
        "A continuación, un par de comandos que pueden ser útiles cuando queramos realizar un análisis de nuestro programa cuando se ejecuta.\n",
        "\n",
        "El comando %lprun, nos permite ver el tiempo total que usa nuestro algoritmo **en cada linea de código**."
      ],
      "metadata": {
        "id": "RbO_zdmNLdUB"
      }
    },
    {
      "cell_type": "code",
      "source": [
        "import random\n",
        "a = random.sample(range(1, 1000), 100)\n",
        "%lprun -f insertion_sort insertion_sort(a)"
      ],
      "metadata": {
        "id": "OaUf_0Xa_Xhk"
      },
      "execution_count": 74,
      "outputs": []
    },
    {
      "cell_type": "markdown",
      "source": [
        "Con `%memit` podemos saber el máximo de memoria que necesitó nuestro programa. El valor **increment** muestra la cantidad adicional de memoria que requiere nuestro programa."
      ],
      "metadata": {
        "id": "t5fV_ImxKKon"
      }
    },
    {
      "cell_type": "code",
      "source": [
        "%memit insertion_sort(a)"
      ],
      "metadata": {
        "colab": {
          "base_uri": "https://localhost:8080/"
        },
        "id": "TMRbcLBBX_Lg",
        "outputId": "c831526e-119b-4baf-f9fe-c9119fcfcfb1"
      },
      "execution_count": 77,
      "outputs": [
        {
          "output_type": "stream",
          "name": "stdout",
          "text": [
            "peak memory: 168.73 MiB, increment: 0.00 MiB\n"
          ]
        }
      ]
    },
    {
      "cell_type": "code",
      "source": [
        ""
      ],
      "metadata": {
        "id": "tPFBej_3hV_T"
      },
      "execution_count": null,
      "outputs": []
    }
  ]
}