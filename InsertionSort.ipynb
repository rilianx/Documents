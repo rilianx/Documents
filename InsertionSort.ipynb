{
  "nbformat": 4,
  "nbformat_minor": 0,
  "metadata": {
    "colab": {
      "name": "InsertionSort",
      "provenance": [],
      "toc_visible": true,
      "authorship_tag": "ABX9TyO0a120w2zZJKCaw1wtpfIJ",
      "include_colab_link": true
    },
    "kernelspec": {
      "name": "python3",
      "display_name": "Python 3"
    },
    "language_info": {
      "name": "python"
    }
  },
  "cells": [
    {
      "cell_type": "markdown",
      "metadata": {
        "id": "view-in-github",
        "colab_type": "text"
      },
      "source": [
        "<a href=\"https://colab.research.google.com/github/rilianx/Documents/blob/main/InsertionSort.ipynb\" target=\"_parent\"><img src=\"https://colab.research.google.com/assets/colab-badge.svg\" alt=\"Open In Colab\"/></a>"
      ]
    },
    {
      "cell_type": "markdown",
      "source": [
        "# Problema de ordenamiento\n",
        "\n",
        "**Entrada**: Secuencia de n números $[a_1,a_2,...,a_n]$\n",
        "\n",
        "**Salida**: Permutación ordenada de la secuencia de entrada: $[a_1',a_2',...,a_n']$, de tal manera que $a_1'\\leq a_2' \\leq... \\leq a_n'$.\n",
        "\n",
        "![image](https://i.imgur.com/rCFQeVM.png)\n"
      ],
      "metadata": {
        "id": "jT2qsbCS3Fzu"
      }
    },
    {
      "cell_type": "markdown",
      "source": [
        "# Material adicional necesarios\n",
        "\n",
        "### Algoritmo BubbleSort\n",
        "Implementación del algoritmo **BubbleSort** sacada de [aquí](https://realpython.com/sorting-algorithms-python/#the-bubble-sort-algorithm-in-python). Se usará para comparar."
      ],
      "metadata": {
        "id": "PPZ_M294tIlc"
      }
    },
    {
      "cell_type": "code",
      "source": [
        "## https://realpython.com/sorting-algorithms-python/#the-bubble-sort-algorithm-in-python\n",
        "\n",
        "def bubble_sort(array):\n",
        "    n = len(array)\n",
        "\n",
        "    for i in range(n):\n",
        "        # Create a flag that will allow the function to\n",
        "        # terminate early if there's nothing left to sort\n",
        "        already_sorted = True\n",
        "\n",
        "        # Start looking at each item of the list one by one,\n",
        "        # comparing it with its adjacent value. With each\n",
        "        # iteration, the portion of the array that you look at\n",
        "        # shrinks because the remaining items have already been\n",
        "        # sorted.\n",
        "        for j in range(n - i - 1):\n",
        "            if array[j] > array[j + 1]:\n",
        "                # If the item you're looking at is greater than its\n",
        "                # adjacent value, then swap them\n",
        "                array[j], array[j + 1] = array[j + 1], array[j]\n",
        "\n",
        "                # Since you had to swap two elements,\n",
        "                # set the `already_sorted` flag to `False` so the\n",
        "                # algorithm doesn't finish prematurely\n",
        "                already_sorted = False\n",
        "\n",
        "        # If there were no swaps during the last iteration,\n",
        "        # the array is already sorted, and you can terminate\n",
        "        if already_sorted:\n",
        "            break\n",
        "\n",
        "    return array"
      ],
      "metadata": {
        "id": "2jGPWguutL42"
      },
      "execution_count": 35,
      "outputs": []
    },
    {
      "cell_type": "markdown",
      "source": [
        "# Algoritmo InsertionSort\n",
        "\n",
        "El algoritmo **InsertionSort** es similar a lo que hacemos cuando ordenamos una mano de cartas agregando una carta a la vez en nuestra mano y buscamos su posición correcta de **derecha a izquierda**. El siguiente código muestra una implementación del algoritmo."
      ],
      "metadata": {
        "id": "nn1Sn60L3mrJ"
      }
    },
    {
      "cell_type": "code",
      "execution_count": 132,
      "metadata": {
        "id": "X6zMAoC1aos8"
      },
      "outputs": [],
      "source": [
        "import random\n",
        "from termcolor import colored\n",
        "\n",
        "counter=0 # contador de comparaciones\n",
        "\n",
        "def insertion_sort(a, verbose=False):\n",
        "  global counter #variable global\n",
        "  n=len(a)\n",
        "  for i in range(1,n):\n",
        "    #a[0..i-1] se encuentran ordenados\n",
        "    key = a[i]\n",
        "    if verbose==True: \n",
        "      print(\"-- Iteración\",i,\"--\")\n",
        "      print(\"Inicio iteración:\",colored(f\"{a[:i]}\",\"blue\"),colored(str(a[i]),\"red\"),colored(f\"{a[i+1:]}\",\"yellow\") if i+1<n else '')\n",
        "\n",
        "    key_placed=False\n",
        "    for k in range(i-1,-1,-1): #i-1,i-2,...,0\n",
        "      counter += 1\n",
        "      if a[k]<key: \n",
        "        a[k+1]=key\n",
        "        key_placed=True\n",
        "        break\n",
        "      a[k+1] = a[k]  #se mueve el nuevo elemento de derecha a izquierda\n",
        "\n",
        "    if key_placed==False: a[k]=key; k=-1\n",
        "\n",
        "    if verbose==True: print(\"Fin iteración   :\",colored(f\"{a[:i+1]}\",\"blue\"), colored(f\"{a[i+1:]}\",\"yellow\") if i+1<n else '')\n",
        "  return a"
      ]
    },
    {
      "cell_type": "markdown",
      "source": [
        "El algoritmo recibe como entrada una lista (o arreglo) $a$ con la secuencia de $n$ elementos que queremos ordenar. Luego, los números se ordenan dentro de la misma lista.\n",
        "\n",
        "1. Cuando comienza, se considera que sólo el primer elemento se encuentra ordenado, es decir, `a[0]`, y el resto de elementos son como las cartas boca abajo en la mesa.\n",
        "\n",
        "2. Luego, para cada elemento `key=a[i]` con $i$ en el rango $(1..n)$:\n",
        "\n",
        "  a.  El bucle de las lineas 16--23 busca la posición correcta para el elemento de **derecha a izquierda**. Para ello se recorre el arreglo desde la posición $i-1$ hasta la posición $0$ (linea 16) y se mueve a la derecha los elementos mayores a $key$ para *hacerle espacio* (linea 20).\n",
        "\n",
        "  b. Al salir del bucle se coloca el nuevo valor en su posición correcta (linea 23).\n",
        "\n",
        "Cuando la variable `verbose` es `True` se muestra información para ver lo que pasa paso a paso dentro de la función.\n",
        "\n",
        "### Ejemplo\n",
        "\n",
        "Consideremos, por ejemplo, el arreglo:\n",
        "\n",
        "$a=[4,3,5,1]$\n",
        "\n",
        "Pasamos directamente al segundo elemento ($3$), y lo ponemos es su poisición correcta, es decir a[0]:\n",
        "\n",
        "$a=[3,4,5,1]$\n",
        "\n",
        "Luego, el tercer elemento ya se encuentra en la posición correcta, por lo que pasaríamos al cuarto elemento ($1$) el que se movería hasta la primera posición del arreglo:\n",
        "\n",
        "$a=[1,3,4,5]$\n",
        "\n",
        "Y ya tenemos el arreglo ordenado.\n",
        "\n",
        "A continuación se muestra el método en acción usando listas generadas aleatoriamente."
      ],
      "metadata": {
        "id": "XHIw15F97CnZ"
      }
    },
    {
      "cell_type": "code",
      "source": [
        "a = random.sample(range(1, 100), 8)\n",
        "print(\"Entrada no ordenada:\",a,\"\\n\")\n",
        "print(\"\\nSalida ordenada:\",insertion_sort(a,verbose=True))"
      ],
      "metadata": {
        "colab": {
          "base_uri": "https://localhost:8080/"
        },
        "id": "H_93UBKv8VQl",
        "outputId": "eaee7ad9-1cb7-46a2-fe08-08d20d17800d"
      },
      "execution_count": 133,
      "outputs": [
        {
          "output_type": "stream",
          "name": "stdout",
          "text": [
            "Entrada no ordenada: [92, 51, 32, 59, 53, 35, 14, 69] \n",
            "\n",
            "-- Iteración 1 --\n",
            "Inicio iteración: \u001b[34m[92]\u001b[0m \u001b[31m51\u001b[0m \u001b[33m[32, 59, 53, 35, 14, 69]\u001b[0m\n",
            "Fin iteración   : \u001b[34m[51, 92]\u001b[0m \u001b[33m[32, 59, 53, 35, 14, 69]\u001b[0m\n",
            "-- Iteración 2 --\n",
            "Inicio iteración: \u001b[34m[51, 92]\u001b[0m \u001b[31m32\u001b[0m \u001b[33m[59, 53, 35, 14, 69]\u001b[0m\n",
            "Fin iteración   : \u001b[34m[32, 51, 92]\u001b[0m \u001b[33m[59, 53, 35, 14, 69]\u001b[0m\n",
            "-- Iteración 3 --\n",
            "Inicio iteración: \u001b[34m[32, 51, 92]\u001b[0m \u001b[31m59\u001b[0m \u001b[33m[53, 35, 14, 69]\u001b[0m\n",
            "Fin iteración   : \u001b[34m[32, 51, 59, 92]\u001b[0m \u001b[33m[53, 35, 14, 69]\u001b[0m\n",
            "-- Iteración 4 --\n",
            "Inicio iteración: \u001b[34m[32, 51, 59, 92]\u001b[0m \u001b[31m53\u001b[0m \u001b[33m[35, 14, 69]\u001b[0m\n",
            "Fin iteración   : \u001b[34m[32, 51, 53, 59, 92]\u001b[0m \u001b[33m[35, 14, 69]\u001b[0m\n",
            "-- Iteración 5 --\n",
            "Inicio iteración: \u001b[34m[32, 51, 53, 59, 92]\u001b[0m \u001b[31m35\u001b[0m \u001b[33m[14, 69]\u001b[0m\n",
            "Fin iteración   : \u001b[34m[32, 35, 51, 53, 59, 92]\u001b[0m \u001b[33m[14, 69]\u001b[0m\n",
            "-- Iteración 6 --\n",
            "Inicio iteración: \u001b[34m[32, 35, 51, 53, 59, 92]\u001b[0m \u001b[31m14\u001b[0m \u001b[33m[69]\u001b[0m\n",
            "Fin iteración   : \u001b[34m[14, 32, 35, 51, 53, 59, 92]\u001b[0m \u001b[33m[69]\u001b[0m\n",
            "-- Iteración 7 --\n",
            "Inicio iteración: \u001b[34m[14, 32, 35, 51, 53, 59, 92]\u001b[0m \u001b[31m69\u001b[0m \n",
            "Fin iteración   : \u001b[34m[14, 32, 35, 51, 53, 59, 69, 92]\u001b[0m \n",
            "\n",
            "Salida ordenada: [14, 32, 35, 51, 53, 59, 69, 92]\n"
          ]
        }
      ]
    },
    {
      "cell_type": "markdown",
      "source": [
        "En cada iteración se puede apreciar el arreglo antes y despúes de colocar el nuevo elemento. El arreglo en azul es el que se encuentra ordenado y en amarillo los elementos que aun \"no se agregan\". En rojo, el nuevo elemento a agregar."
      ],
      "metadata": {
        "id": "GXXxcYI38GFB"
      }
    },
    {
      "cell_type": "markdown",
      "source": [
        "## Tiempo de ejecución\n",
        "Observando el código, podemos apreciar que el **peor caso** ocurriría si los elementos se encuentra ordenados de menor a mayor. En esta situación, para cada elemento $i$, el algoritmo debería recorrer el arreglo desde la posición $i$ hasta la posición $0$, ya que la posición correcta de cada elemento sería, de hecho, la posición $0$.\n",
        "\n",
        "Por ejemplo:"
      ],
      "metadata": {
        "id": "NmzbekC-4NNC"
      }
    },
    {
      "cell_type": "code",
      "source": [
        "a =[4,3,2,1]; counter=0\n",
        "print(\"Entrada no ordenada:\",a)\n",
        "print(\"Salida ordenada:\",insertion_sort(a,True))\n",
        "print(\"\\nCantidad de comparaciones realizadas: \", counter)"
      ],
      "metadata": {
        "colab": {
          "base_uri": "https://localhost:8080/"
        },
        "id": "hpqCkU0wBNAv",
        "outputId": "cd9dc315-5991-4aff-e045-5efbe83ed6bc"
      },
      "execution_count": 134,
      "outputs": [
        {
          "output_type": "stream",
          "name": "stdout",
          "text": [
            "Entrada no ordenada: [4, 3, 2, 1]\n",
            "-- Iteración 1 --\n",
            "Inicio iteración: \u001b[34m[4]\u001b[0m \u001b[31m3\u001b[0m \u001b[33m[2, 1]\u001b[0m\n",
            "Fin iteración   : \u001b[34m[3, 4]\u001b[0m \u001b[33m[2, 1]\u001b[0m\n",
            "-- Iteración 2 --\n",
            "Inicio iteración: \u001b[34m[3, 4]\u001b[0m \u001b[31m2\u001b[0m \u001b[33m[1]\u001b[0m\n",
            "Fin iteración   : \u001b[34m[2, 3, 4]\u001b[0m \u001b[33m[1]\u001b[0m\n",
            "-- Iteración 3 --\n",
            "Inicio iteración: \u001b[34m[2, 3, 4]\u001b[0m \u001b[31m1\u001b[0m \n",
            "Fin iteración   : \u001b[34m[1, 2, 3, 4]\u001b[0m \n",
            "Salida ordenada: [1, 2, 3, 4]\n",
            "\n",
            "Cantidad de comparaciones realizadas:  6\n"
          ]
        }
      ]
    },
    {
      "cell_type": "markdown",
      "source": [
        "En este caso, la clave 3 tuvo que moverse una casilla, la clave 2, dos casillas y la clave 1, 3 casillas. OBserve que esto es igual al **número de comparaciones** que se realizaron dentro del método.\n",
        "\n",
        " En el caso general, se deberían realizar $\\sum\\limits_{i=0}^{n-1} i=\\frac{n(n-1)}{2}$ operaciones. Por lo que el **tiempo de ejecución del algoritmo en el peor caso** es $O(n^2)$."
      ],
      "metadata": {
        "id": "2HQH2ltkBUbq"
      }
    },
    {
      "cell_type": "markdown",
      "source": [
        "## Experimentos\n",
        "\n",
        "A continuación se muestra gráficamente una comparación entre:\n",
        "\n",
        "* cantidad de comparaciones del peor caso calculadas matemáticamente y\n",
        "* cantidad de comparaciones realizadas experimentalmente para entradas aleatorias\n",
        "\n",
        "para tamaños de problemas con $n \\in [5,99]$"
      ],
      "metadata": {
        "id": "2hYUM_9OHF38"
      }
    },
    {
      "cell_type": "code",
      "source": [
        "import matplotlib.pyplot as plt\n",
        "\n",
        "x=[]; y=[]; y1=[]; y2=[]\n",
        "#para tamaños del problema entre 5 y 99\n",
        "for n in range(5,100):\n",
        "  a = random.sample(range(1, 100), n)\n",
        "  counter=0\n",
        "  insertion_sort(a)\n",
        "  x.append(n)\n",
        "  y.append(counter)\n",
        "  y1.append(n*(n-1)/2)\n",
        "  y2.append(0.2 * n**2)\n",
        "\n",
        "plt.plot(x,y)\n",
        "plt.plot(x,y1)\n",
        "plt.plot(x,y2)\n",
        "plt.legend([\"random inputs\", \"theoretical worst case\", \"f(n)=0.1*n^2\"])\n",
        "\n",
        "plt.xlabel('n')\n",
        "plt.ylabel('number of operations')\n",
        "plt.show()"
      ],
      "metadata": {
        "colab": {
          "base_uri": "https://localhost:8080/",
          "height": 280
        },
        "id": "LxKv6b1WE-t8",
        "outputId": "defb0957-0d32-4b77-da46-ffd94a4d3e28"
      },
      "execution_count": 135,
      "outputs": [
        {
          "output_type": "display_data",
          "data": {
            "text/plain": [
              "<Figure size 432x288 with 1 Axes>"
            ],
            "image/png": "[encoded data removed]"
          },
          "metadata": {
            "needs_background": "light"
          }
        }
      ]
    },
    {
      "cell_type": "markdown",
      "source": [
        "En el gráfico se puede apreciar que, como cabía de esperar, el tiempo de ejecución empírico esta por debajo del peor caso teórico. \n",
        "\n",
        "También podemos ver que el tiempo de ejecución para las instancias aleatorias pareciera tener una **cota asintótica inferior** $\\Omega(n^2)$."
      ],
      "metadata": {
        "id": "0LpupLb_HnWS"
      }
    },
    {
      "cell_type": "markdown",
      "source": [
        "### Comparación con BubbleSort\n",
        "\n",
        "En el siguiente gráfico se reporta una comparación en tiempo para el algoritmo **BubbleSort** y nuestra implementación del **InsertionSort** para arreglos generados aleatoriamente de tamaños entre $5$ y $100$.\n",
        "\n"
      ],
      "metadata": {
        "id": "5AszHwkmJIfJ"
      }
    },
    {
      "cell_type": "code",
      "source": [
        "import matplotlib.pyplot as plt\n",
        "import datetime\n",
        "from timeit import repeat\n",
        "\n",
        "x=[]; y=[]; y1=[]; y2=[]; y3=[]\n",
        "\n",
        "\n",
        "#para tamaños del problema entre 5 y 99\n",
        "for n in range(5,100):\n",
        "\n",
        "  a = random.sample(range(1, 1000), n)\n",
        "\n",
        "  t1 = repeat(setup=\"from __main__ import insertion_sort\", stmt=f\"insertion_sort({a})\", repeat=1, number=10)\n",
        "  t2 = repeat(setup=\"from __main__ import bubble_sort\", stmt=f\"bubble_sort({a})\", repeat=1, number=10)\n",
        "  t3 = repeat(setup=\"\", stmt=f\"sorted({a})\", repeat=1, number=10)\n",
        "\n",
        "  x.append(n)\n",
        "  y1.append(t1)\n",
        "  y2.append(t2)\n",
        "  y3.append(t3)\n",
        "\n",
        "plt.plot(x,y1)\n",
        "plt.plot(x,y2)\n",
        "plt.plot(x,y3)\n",
        "plt.legend([\"InsertionSort\", \"Bubble sort\", \"Sorted de python\"])\n",
        "\n",
        "plt.xlabel('n')\n",
        "plt.ylabel('time in ms')\n",
        "plt.show()"
      ],
      "metadata": {
        "colab": {
          "base_uri": "https://localhost:8080/",
          "height": 279
        },
        "id": "Ffz2Id4WJPsO",
        "outputId": "bb7468ee-b21b-4333-da31-c23e640524fb"
      },
      "execution_count": 136,
      "outputs": [
        {
          "output_type": "display_data",
          "data": {
            "text/plain": [
              "<Figure size 432x288 with 1 Axes>"
            ],
            "image/png": "[encoded data removed]"
          },
          "metadata": {
            "needs_background": "light"
          }
        }
      ]
    },
    {
      "cell_type": "markdown",
      "source": [
        "En el gráfico se puede apreciar que las curvas de ambos algoritmos parecen ser $O(n^2)$. Sin embargo, **InsertionSort** reporta mejores tiempos para instancias generadas aleatoriamente. Esto se debe, probablemente, a que las **constantes ocultas tras la notación asintótica** son de menor tamaño.\n",
        "\n",
        "Por otro lado, la función **sorted** de Python es mucho más rápida. Además que su cota asintótica probablemente sea menor: $O(n \\log n)$, también se debe a que las funciones incorporadas con el lenguaje están **super optimizadas**."
      ],
      "metadata": {
        "id": "8lSmgt-vvpWB"
      }
    },
    {
      "cell_type": "markdown",
      "source": [
        "## Correctitud del algoritmo\n",
        "En el comienzo de cada iteración del bucle más grande, el subarreglo a[0..i-1] corresponde a nuestra mano ordenada. El resto del arreglo: a[i,..,n-1] corresponde a las cartas boca abajo en la mesa. \n",
        "\n",
        "En la salida del método, el arreglo en azul correspondería a la mano ordenada, mientras que el resto de elementos serían las cartas boca abajo:\n",
        "\n",
        "![image](https://i.imgur.com/fhbAEhD.png)\n",
        "\n",
        "Queremos probar la siguiente **siguiente propiedad de bucle invariante** para el `insertion_sort`:\n",
        "\n",
        "> Al comienzo de cada iteración del bucle más grande, el subarreglo a[0..i-1] contiene los **mismos elementos** que el arreglo original, pero **ordenados de menor a mayor**.\n",
        "\n",
        "\n",
        "**Inicialización**\n",
        "\n",
        "Al comienzo del bucle, notamos que i comienza con el valor 1, por lo tanto, a[0..i-1] corresponde al primer elemento del arreglo original: a[0], y que se encuentra trivialmente ordenado.\n",
        "\n",
        "**Mantención**\n",
        "\n",
        "Podemos ver que en el bucle interno del algoritmo, “movemos” el nuevo elemento desde la posición i, hasta su posición correcta. Por lo tanto, si el arreglo a[0..i-1] se encontraba ordenado y contenía los elementos del arreglo original (propiedad de orden), entonces el arreglo a[0..i] también contendrá los elementos del arreglo original (ya que agregamos el i-ésimo elemento) y se mantendrá ordenado.\n",
        "\n",
        "**Correctitud**\n",
        "\n",
        "Finalmente, como la propiedad de bucle invariante es verdadera al incio del bucle y se mantiene en cada iteración, podemos decir que al **finalizar la última iteración del algoritmo**, se sigue cumpliendo.\n",
        "\n",
        "Por lo tanto, **el algoritmo es correcto**, ya que genera un arreglo a[0..n-1] con los mismos elementos que el arreglo original, pero ordenados de menor a mayor."
      ],
      "metadata": {
        "id": "-ifxrrqlC4Hc"
      }
    },
    {
      "cell_type": "code",
      "source": [
        ""
      ],
      "metadata": {
        "id": "OaUf_0Xa_Xhk"
      },
      "execution_count": null,
      "outputs": []
    }
  ]
}